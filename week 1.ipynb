{
 "cells": [
  {
   "cell_type": "markdown",
   "id": "c8429fe5-3c78-4368-a707-407884df18dd",
   "metadata": {},
   "source": [
    "Download the Video Game Sales with Ratings dataset from this link: Video Game Sales with Ratings.\n",
    "https://www.kaggle.com/datasets/rush4ratio/video-game-sales-with-ratings\n",
    "\n",
    "* Load the dataset as a Pandas data frame.\n",
    "* Display the first ten rows of data.\n",
    "* Find the dimensions (number of rows and columns) in the data frame. What do these two numbers represent in the context of the data?\n",
    "* Find the top five games by critic score.\n",
    "* Find the number of video games in the data frame in each genre.\n",
    "* Find the first five games in the data frame on the SNES platform.\n",
    "* Find the five publishers with the highest total global sales. Note: You will need to calculate the total global sales for each publisher to do this.\n",
    "* Create a new column in the data frame that calculates the percentage of global sales from North America. Display the first five rows of the new data frame.\n",
    "* Find the number NaN entries (missing data values) in each column.\n",
    "* Try to calculate the median user score of all the video games. You will likely run into an error because some of the user score entries are a non-numerical string that cannot be converted to a float. Find and replace this string with NaN and then calculate the median. Then, replace all NaN entries in the user score column with the median value."
   ]
  },
  {
   "cell_type": "code",
   "execution_count": 1,
   "id": "8f00870f-3fc3-4f17-a1ef-f2333b3230e6",
   "metadata": {
    "tags": []
   },
   "outputs": [],
   "source": [
    "import time\n",
    "\n",
    "# file system searches etc\n",
    "import os\n",
    "from os.path import basename, exists\n",
    "\n",
    "# data frames\n",
    "import pandas as pd\n",
    "\n",
    "# web access and html parsing (urllib, its submodules)\n",
    "import requests\n",
    "import urllib\n",
    "import urllib.request\n",
    "import urllib.error\n",
    "from urllib.request import urlretrieve\n",
    "# for a workaround.\n",
    "import ssl\n",
    "\n",
    "# work around read_html deprecation issue\n",
    "from io import StringIO\n",
    "\n",
    "# fancy table printing\n",
    "from tabulate import tabulate"
   ]
  },
  {
   "cell_type": "code",
   "execution_count": 2,
   "id": "4404914f-6557-4491-b0ed-0cd91e0e0b7c",
   "metadata": {
    "tags": []
   },
   "outputs": [],
   "source": [
    "# For testing: Make warnings fatal.\n",
    "\n",
    "import warnings\n",
    "warnings.filterwarnings(\"error\")"
   ]
  },
  {
   "cell_type": "code",
   "execution_count": 8,
   "id": "ef297433-f04c-4408-8bbe-6c5751b52076",
   "metadata": {
    "tags": []
   },
   "outputs": [
    {
     "name": "stdout",
     "output_type": "stream",
     "text": [
      "Directory 'data' created.\n"
     ]
    }
   ],
   "source": [
    "# Store final project data in its own directory.\n",
    "\n",
    "DATA_DIRECTORY = \"data\"\n",
    "\n",
    "# Check if the directory exists\n",
    "if not os.path.exists(DATA_DIRECTORY):\n",
    "    # If it doesn't exist, make it\n",
    "    os.makedirs(DATA_DIRECTORY)\n",
    "    print(f\"Directory '{DATA_DIRECTORY}' created.\")\n",
    "\n"
   ]
  },
  {
   "cell_type": "code",
   "execution_count": 9,
   "id": "d77d5555-cc28-44f1-af93-bcc981ee04cf",
   "metadata": {
    "tags": []
   },
   "outputs": [],
   "source": [
    "# constants for accessing file.\n",
    "\n",
    "VIDEO_GAME_CSV_FILE = DATA_DIRECTORY+\"/video_game_rankings.csv\"\n",
    "VIDEO_GAME_URL = \"https://drive.google.com/uc?id=1_8go9zumRg0gMaLnroUc853I4cI1rVHQ&export=download\"\n"
   ]
  },
  {
   "cell_type": "code",
   "execution_count": 10,
   "id": "0a2af3ee-2c46-4fa3-b1df-035a23addf46",
   "metadata": {
    "tags": []
   },
   "outputs": [],
   "source": [
    "# web download function\n",
    "\n",
    "headers = {\n",
    "    \"User-Agent\": \"Mozilla/5.0 (Windows NT 10.0; Win64; x64) AppleWebKit/537.36 (KHTML, like Gecko) Chrome/88.0.4324.150 Safari/537.36\"\n",
    "}\n",
    "\n",
    "# download: A good citizen download function\n",
    "#     url - the url accessed\n",
    "#     destination - local file to write\n",
    "#\n",
    "# respects code 429 and waits instead of pounding.\n",
    "\n",
    "# Function to disable SSL certificate verification\n",
    "def disable_ssl_verification():\n",
    "    ssl._create_default_https_context = ssl._create_unverified_context\n",
    "\n",
    "# Call the function to disable SSL verification\n",
    "# This is to workaround an SSL certificate error I am getting.\n",
    "disable_ssl_verification()\n",
    "\n",
    "def download(url, destination, secure=True):\n",
    "    try:\n",
    "        # Send a GET request with headers\n",
    "        response = requests.get(url, headers=headers, verify=secure)\n",
    "        # Check if the request was successful\n",
    "        if response.status_code == 200:\n",
    "            with open(destination, 'w') as f:\n",
    "                f.write(response.text)\n",
    "            print(\"Downloaded \" + destination)\n",
    "        elif response.status_code == 429:\n",
    "            # Extract the Retry-After header value\n",
    "            # This is to avoid hammering sites.\n",
    "            retry_after = response.headers.get(\"Retry-After\")\n",
    "            if retry_after:\n",
    "                # Convert the Retry-After value to seconds\n",
    "                retry_after_seconds = int(retry_after)\n",
    "                print(\"Rate limit exceeded. Waiting for \" + str(retry_after_seconds) + \" seconds.\")\n",
    "                time.sleep(retry_after_seconds)\n",
    "                # Retry the request after waiting\n",
    "                download(url, destination)\n",
    "            else:\n",
    "                print(\"Rate limit exceeded. Retry-After header not found.\")\n",
    "        else:\n",
    "            print(\"Website returned \" + str(response.status_code))\n",
    "    except urllib.error.HTTPError:\n",
    "        print(\"Failed to download \" + url)\n",
    "    except Exception:\n",
    "        print(\"Error writing \" + destination)\n",
    "    return\n",
    "\n",
    "def downloadFile(url, filename):\n",
    "    if not exists(filename):\n",
    "        local, _ = urlretrieve(url, filename)\n",
    "        print(\"Downloaded \" + local + \"\\n\")\n",
    "        return local, _\n",
    "\n",
    "def downloadRawFile(url, filename):\n",
    "    if not os.path.exists(filename):\n",
    "        # Modify the URL to the raw content URL (replace \"github.com\" with \"raw.githubusercontent.com\")\n",
    "        raw_url = url + \"?raw=true\"\n",
    "        # Download the raw content\n",
    "        local, _ = downloadFile(raw_url, filename)\n"
   ]
  },
  {
   "cell_type": "markdown",
   "id": "ce158696-f84d-4bae-8db3-8002c81eaf04",
   "metadata": {},
   "source": [
    "* Load the dataset as a Pandas data frame.\n"
   ]
  },
  {
   "cell_type": "code",
   "execution_count": 11,
   "id": "5ff0de2b-5caa-4c7d-89d6-f2ea0a6e38f6",
   "metadata": {
    "tags": []
   },
   "outputs": [
    {
     "name": "stdout",
     "output_type": "stream",
     "text": [
      "Downloaded data/video_game_rankings.csv\n",
      "\n"
     ]
    }
   ],
   "source": [
    "downloadRawFile(VIDEO_GAME_URL, VIDEO_GAME_CSV_FILE)    \n"
   ]
  },
  {
   "cell_type": "markdown",
   "id": "3bfe20d7-ca3e-46cf-b794-6c8ab7416337",
   "metadata": {},
   "source": [
    "* Display the first ten rows of data.\n"
   ]
  },
  {
   "cell_type": "code",
   "execution_count": 21,
   "id": "1aace59d-0bd8-4bc2-a6c3-7fb8b74957e3",
   "metadata": {
    "tags": []
   },
   "outputs": [
    {
     "name": "stdout",
     "output_type": "stream",
     "text": [
      "+---------------------------+----------+-----------------+--------------+-----------+----------+----------+----------+-------------+--------------+--------------+--------------+------------+------------+-----------+--------+\n",
      "|           Name            | Platform | Year_of_Release |    Genre     | Publisher | NA_Sales | EU_Sales | JP_Sales | Other_Sales | Global_Sales | Critic_Score | Critic_Count | User_Score | User_Count | Developer | Rating |\n",
      "+---------------------------+----------+-----------------+--------------+-----------+----------+----------+----------+-------------+--------------+--------------+--------------+------------+------------+-----------+--------+\n",
      "|        Wii Sports         |   Wii    |     2006.0      |    Sports    | Nintendo  |  41.36   |  28.96   |   3.77   |    8.45     |    82.53     |     76.0     |     51.0     |     8      |   322.0    | Nintendo  |   E    |\n",
      "|     Super Mario Bros.     |   NES    |     1985.0      |   Platform   | Nintendo  |  29.08   |   3.58   |   6.81   |    0.77     |    40.24     |     nan      |     nan      |    nan     |    nan     |    nan    |  nan   |\n",
      "|      Mario Kart Wii       |   Wii    |     2008.0      |    Racing    | Nintendo  |  15.68   |  12.76   |   3.79   |    3.29     |    35.52     |     82.0     |     73.0     |    8.3     |   709.0    | Nintendo  |   E    |\n",
      "|     Wii Sports Resort     |   Wii    |     2009.0      |    Sports    | Nintendo  |  15.61   |  10.93   |   3.28   |    2.95     |    32.77     |     80.0     |     73.0     |     8      |   192.0    | Nintendo  |   E    |\n",
      "| Pokemon Red/Pokemon Blue  |    GB    |     1996.0      | Role-Playing | Nintendo  |  11.27   |   8.89   |  10.22   |     1.0     |    31.37     |     nan      |     nan      |    nan     |    nan     |    nan    |  nan   |\n",
      "|          Tetris           |    GB    |     1989.0      |    Puzzle    | Nintendo  |   23.2   |   2.26   |   4.22   |    0.58     |    30.26     |     nan      |     nan      |    nan     |    nan     |    nan    |  nan   |\n",
      "|   New Super Mario Bros.   |    DS    |     2006.0      |   Platform   | Nintendo  |  11.28   |   9.14   |   6.5    |    2.88     |     29.8     |     89.0     |     65.0     |    8.5     |   431.0    | Nintendo  |   E    |\n",
      "|         Wii Play          |   Wii    |     2006.0      |     Misc     | Nintendo  |  13.96   |   9.18   |   2.93   |    2.84     |    28.92     |     58.0     |     41.0     |    6.6     |   129.0    | Nintendo  |   E    |\n",
      "| New Super Mario Bros. Wii |   Wii    |     2009.0      |   Platform   | Nintendo  |  14.44   |   6.94   |   4.7    |    2.24     |    28.32     |     87.0     |     80.0     |    8.4     |   594.0    | Nintendo  |   E    |\n",
      "|         Duck Hunt         |   NES    |     1984.0      |   Shooter    | Nintendo  |  26.93   |   0.63   |   0.28   |    0.47     |    28.31     |     nan      |     nan      |    nan     |    nan     |    nan    |  nan   |\n",
      "+---------------------------+----------+-----------------+--------------+-----------+----------+----------+----------+-------------+--------------+--------------+--------------+------------+------------+-----------+--------+\n"
     ]
    }
   ],
   "source": [
    "def pretty_print_df(df, rows=None, interesting_columns=None):\n",
    "    if rows is not None:\n",
    "        df = df.head(rows)  # rows parameter limits the DataFrame to the specified number of rows\n",
    "    if interesting_columns:\n",
    "        # Filter DataFrame to include only specified columns\n",
    "        df = df[interesting_columns]    \n",
    "    # Use Tabulate pretty printing.\n",
    "    print(tabulate(df, headers='keys', tablefmt='pretty', showindex=False))\n",
    "    \n",
    "# load csv into pandas data frame\n",
    "video_game_rankings_df = pd.read_csv(VIDEO_GAME_CSV_FILE)\n",
    "\n",
    "# show 10 rows\n",
    "pretty_print_df(video_game_rankings_df, rows=10)\n"
   ]
  },
  {
   "cell_type": "markdown",
   "id": "d5c41813-7a8a-43c3-a26b-0c20535b758e",
   "metadata": {},
   "source": [
    "* Find the dimensions (number of rows and columns) in the data frame. What do these two numbers represent in the context of the data?\n"
   ]
  },
  {
   "cell_type": "code",
   "execution_count": 25,
   "id": "7f274aef-5453-491f-a795-c2d72ec3c35b",
   "metadata": {
    "tags": []
   },
   "outputs": [
    {
     "name": "stdout",
     "output_type": "stream",
     "text": [
      "\n",
      "\n",
      "Dataframe Information:\n",
      "+-----------------+-----------+\n",
      "|     Column      | Data Type |\n",
      "+-----------------+-----------+\n",
      "|      Name       |  object   |\n",
      "|    Platform     |  object   |\n",
      "| Year_of_Release |  float64  |\n",
      "|      Genre      |  object   |\n",
      "|    Publisher    |  object   |\n",
      "|    NA_Sales     |  float64  |\n",
      "|    EU_Sales     |  float64  |\n",
      "|    JP_Sales     |  float64  |\n",
      "|   Other_Sales   |  float64  |\n",
      "|  Global_Sales   |  float64  |\n",
      "|  Critic_Score   |  float64  |\n",
      "|  Critic_Count   |  float64  |\n",
      "|   User_Score    |  object   |\n",
      "|   User_Count    |  float64  |\n",
      "|    Developer    |  object   |\n",
      "|     Rating      |  object   |\n",
      "+-----------------+-----------+\n",
      "\n",
      "\n",
      "There are 16719 video game rows and 16 columns of information.\n"
     ]
    }
   ],
   "source": [
    "def pretty_print_df_info(df):\n",
    "    # Show the column names and data types.\n",
    "    columns_info = df.dtypes.reset_index()\n",
    "    columns_info.columns = ['Column', 'Data Type']\n",
    "    table = tabulate(columns_info, headers='keys', tablefmt='pretty', showindex=False)\n",
    "    print(f\"Dataframe Information:\\n{table}\")\n",
    "    \n",
    "\n",
    "print(\"\\n\")\n",
    "pretty_print_df_info(video_game_rankings_df)\n",
    "print(\"\\n\")\n",
    "print(f\"There are {video_game_rankings_df.shape[0]} video game rows and {video_game_rankings_df.shape[1]} columns of information.\")\n"
   ]
  },
  {
   "cell_type": "markdown",
   "id": "c7a90788-fadf-4d8f-bb6a-4c5997b801c8",
   "metadata": {},
   "source": [
    "* Find the top five games by critic score.\n"
   ]
  },
  {
   "cell_type": "code",
   "execution_count": 32,
   "id": "c16c93c5-596a-490d-be98-f865333fedb8",
   "metadata": {
    "tags": []
   },
   "outputs": [
    {
     "name": "stdout",
     "output_type": "stream",
     "text": [
      "+--------------------------+----------+-----------------+----------+----------------------+--------------+\n",
      "|           Name           | Platform | Year_of_Release |  Genre   |      Publisher       | Critic_Score |\n",
      "+--------------------------+----------+-----------------+----------+----------------------+--------------+\n",
      "| Tony Hawk's Pro Skater 2 |    PS    |      2000       |  Sports  |      Activision      |     98.0     |\n",
      "|   Grand Theft Auto IV    |   PS3    |      2008       |  Action  | Take-Two Interactive |     98.0     |\n",
      "|   Grand Theft Auto IV    |   X360   |      2008       |  Action  | Take-Two Interactive |     98.0     |\n",
      "|       SoulCalibur        |    DC    |      1999       | Fighting |  Namco Bandai Games  |     98.0     |\n",
      "|    Grand Theft Auto V    |   XOne   |      2014       |  Action  | Take-Two Interactive |     97.0     |\n",
      "+--------------------------+----------+-----------------+----------+----------------------+--------------+\n"
     ]
    }
   ],
   "source": [
    "# Fix the Year_Of_Release field data type:\n",
    "\n",
    "video_game_rankings_df['Year_of_Release'] = video_game_rankings_df['Year_of_Release'].astype('Int64')\n",
    "\n",
    "sorted_by_critic_score_df = video_game_rankings_df.sort_values(by='Critic_Score', ascending=False)\n",
    "\n",
    "interesting_fields = ['Name', 'Platform', 'Year_of_Release', 'Genre', 'Publisher', 'Critic_Score']\n",
    "\n",
    "# show 5 rows\n",
    "pretty_print_df(sorted_by_critic_score_df, rows=5, interesting_columns=interesting_fields)"
   ]
  },
  {
   "cell_type": "markdown",
   "id": "b07d5d87-b672-434c-b1e4-07d50dad1db8",
   "metadata": {},
   "source": [
    "* Find the number of video games in the data frame in each genre.\n"
   ]
  },
  {
   "cell_type": "code",
   "execution_count": 33,
   "id": "1931d4a1-c233-4a15-b747-1f952d77154f",
   "metadata": {
    "tags": []
   },
   "outputs": [
    {
     "name": "stdout",
     "output_type": "stream",
     "text": [
      "+--------------+-------+\n",
      "|    Genre     | Count |\n",
      "+--------------+-------+\n",
      "|    Action    | 3370  |\n",
      "|    Sports    | 2348  |\n",
      "|     Misc     | 1750  |\n",
      "| Role-Playing | 1500  |\n",
      "|   Shooter    | 1323  |\n",
      "|  Adventure   | 1303  |\n",
      "|    Racing    | 1249  |\n",
      "|   Platform   |  888  |\n",
      "|  Simulation  |  874  |\n",
      "|   Fighting   |  849  |\n",
      "|   Strategy   |  683  |\n",
      "|    Puzzle    |  580  |\n",
      "+--------------+-------+\n"
     ]
    }
   ],
   "source": [
    "def sum_column_and_pretty_print_df(df, column_name):\n",
    "    # Get a sum of the count for each unique value in the column_name parameter.\n",
    "    summary = df[column_name].value_counts().reset_index()\n",
    "    summary.columns = [column_name, 'Count']\n",
    "\n",
    "    # Pretty print result.\n",
    "    print(tabulate(summary, headers='keys', tablefmt='pretty', showindex=False))\n",
    "\n",
    "sum_column_and_pretty_print_df(video_game_rankings_df, 'Genre')"
   ]
  },
  {
   "cell_type": "markdown",
   "id": "664036a2-77fb-40f7-8347-fb84d14b57f4",
   "metadata": {},
   "source": [
    "* Find the first five games in the data frame on the SNES platform.\n"
   ]
  },
  {
   "cell_type": "code",
   "execution_count": 34,
   "id": "92d0b86f-e367-4c35-88d3-4d7d6a5b1fd0",
   "metadata": {
    "tags": []
   },
   "outputs": [
    {
     "name": "stdout",
     "output_type": "stream",
     "text": [
      "+--------------------------------------+----------+-----------------+----------+-----------+--------------+\n",
      "|                 Name                 | Platform | Year_of_Release |  Genre   | Publisher | Critic_Score |\n",
      "+--------------------------------------+----------+-----------------+----------+-----------+--------------+\n",
      "|          Super Mario World           |   SNES   |      1990       | Platform | Nintendo  |     nan      |\n",
      "|        Super Mario All-Stars         |   SNES   |      1993       | Platform | Nintendo  |     nan      |\n",
      "|         Donkey Kong Country          |   SNES   |      1994       | Platform | Nintendo  |     nan      |\n",
      "|           Super Mario Kart           |   SNES   |      1992       |  Racing  | Nintendo  |     nan      |\n",
      "| Street Fighter II: The World Warrior |   SNES   |      1992       | Fighting |  Capcom   |     nan      |\n",
      "+--------------------------------------+----------+-----------------+----------+-----------+--------------+\n"
     ]
    }
   ],
   "source": [
    "def filter_by_column_value_and_pretty_print_df(df, column_name, value, rows, interesting_columns=None):\n",
    "    # Do dataframe filtering based on the column name and the value.\n",
    "    filtered_df = df[df[column_name] == value].head(rows)\n",
    "    # Pretty print result.\n",
    "    pretty_print_df(filtered_df, rows=rows, interesting_columns=interesting_columns)\n",
    "\n",
    "filter_by_column_value_and_pretty_print_df(video_game_rankings_df, 'Platform', 'SNES', rows=5, interesting_columns = interesting_fields)"
   ]
  },
  {
   "cell_type": "markdown",
   "id": "344c952d-acb3-41f5-ba56-57d646e0ecf0",
   "metadata": {},
   "source": [
    "* Find the five publishers with the highest total global sales. \n",
    "- Note: You will need to calculate the total global sales for each publisher to do this.\n"
   ]
  },
  {
   "cell_type": "code",
   "execution_count": 36,
   "id": "53e0b579-6d88-4cb5-be8e-07286d05699a",
   "metadata": {
    "tags": []
   },
   "outputs": [
    {
     "name": "stdout",
     "output_type": "stream",
     "text": [
      "+-----------------------------+--------------+\n",
      "|          Publisher          | Global_Sales |\n",
      "+-----------------------------+--------------+\n",
      "|          Nintendo           |   1788.81    |\n",
      "|       Electronic Arts       |   1116.96    |\n",
      "|         Activision          |    731.16    |\n",
      "| Sony Computer Entertainment |    606.48    |\n",
      "|           Ubisoft           |    471.61    |\n",
      "+-----------------------------+--------------+\n"
     ]
    }
   ],
   "source": [
    "def sum_sales_column_and_pretty_print_df(df, summary_column_name, sales_column_name):\n",
    "    # Use groupby for the specified summary column and calculate the sum of sales_column_name\n",
    "    summary_df = df.groupby(summary_column_name)[sales_column_name].sum().reset_index()\n",
    "    # Sort the DataFrame by total global sales in descending order\n",
    "    summary_df = summary_df.sort_values(by=sales_column_name, ascending=False)\n",
    "    # Return the summary DataFrame if needed\n",
    "    return summary_df\n",
    "\n",
    "summary_df = sum_sales_column_and_pretty_print_df(video_game_rankings_df, 'Publisher', 'Global_Sales')\n",
    "# Pretty print the result\n",
    "print(tabulate(summary_df.head(5), headers='keys', tablefmt='pretty', showindex=False))\n"
   ]
  },
  {
   "cell_type": "markdown",
   "id": "44e0cbee-a2c5-41df-9fc2-a59314bb1225",
   "metadata": {},
   "source": [
    "* Create a new column in the data frame that calculates the percentage of global sales from North America. \n",
    "* Display the first five rows of the new data frame.\n"
   ]
  },
  {
   "cell_type": "code",
   "execution_count": 37,
   "id": "23373486-90b0-4e43-a1d8-1684e9fdb5ec",
   "metadata": {
    "tags": []
   },
   "outputs": [
    {
     "name": "stdout",
     "output_type": "stream",
     "text": [
      "+--------------------------+----------+-----------------+--------------+-----------+--------------+----------+---------------------+\n",
      "|           Name           | Platform | Year_of_Release |    Genre     | Publisher | Global_Sales | NA_Sales | NA_Sales_Percentage |\n",
      "+--------------------------+----------+-----------------+--------------+-----------+--------------+----------+---------------------+\n",
      "|        Wii Sports        |   Wii    |      2006       |    Sports    | Nintendo  |    82.53     |  41.36   |        50.12        |\n",
      "|    Super Mario Bros.     |   NES    |      1985       |   Platform   | Nintendo  |    40.24     |  29.08   |        72.27        |\n",
      "|      Mario Kart Wii      |   Wii    |      2008       |    Racing    | Nintendo  |    35.52     |  15.68   |        44.14        |\n",
      "|    Wii Sports Resort     |   Wii    |      2009       |    Sports    | Nintendo  |    32.77     |  15.61   |        47.64        |\n",
      "| Pokemon Red/Pokemon Blue |    GB    |      1996       | Role-Playing | Nintendo  |    31.37     |  11.27   |        35.93        |\n",
      "+--------------------------+----------+-----------------+--------------+-----------+--------------+----------+---------------------+\n"
     ]
    }
   ],
   "source": [
    "video_game_rankings_df['NA_Sales_Percentage'] = ((video_game_rankings_df['NA_Sales'] / video_game_rankings_df['Global_Sales']) * 100).round(2)\n",
    "interesting_fields = ['Name', 'Platform', 'Year_of_Release', 'Genre', 'Publisher', 'Global_Sales', 'NA_Sales', 'NA_Sales_Percentage']\n",
    "pretty_print_df(video_game_rankings_df, rows=5, interesting_columns=interesting_fields)"
   ]
  },
  {
   "cell_type": "markdown",
   "id": "3e0a07bb-5311-4a72-ab88-15f17bd37af7",
   "metadata": {},
   "source": [
    "* Find the number NaN entries (missing data values) in each column.\n"
   ]
  },
  {
   "cell_type": "code",
   "execution_count": 38,
   "id": "8a613810-4c6b-4449-abf1-733cc5d19fa4",
   "metadata": {
    "tags": []
   },
   "outputs": [
    {
     "name": "stdout",
     "output_type": "stream",
     "text": [
      "Dataframe Information:\n",
      "+---------------------+-----------+-----------+\n",
      "|       Column        | Data Type | NaN Count |\n",
      "+---------------------+-----------+-----------+\n",
      "|        Name         |  object   |     2     |\n",
      "|      Platform       |  object   |     0     |\n",
      "|   Year_of_Release   |   Int64   |    269    |\n",
      "|        Genre        |  object   |     2     |\n",
      "|      Publisher      |  object   |    54     |\n",
      "|      NA_Sales       |  float64  |     0     |\n",
      "|      EU_Sales       |  float64  |     0     |\n",
      "|      JP_Sales       |  float64  |     0     |\n",
      "|     Other_Sales     |  float64  |     0     |\n",
      "|    Global_Sales     |  float64  |     0     |\n",
      "|    Critic_Score     |  float64  |   8582    |\n",
      "|    Critic_Count     |  float64  |   8582    |\n",
      "|     User_Score      |  object   |   6704    |\n",
      "|     User_Count      |  float64  |   9129    |\n",
      "|      Developer      |  object   |   6623    |\n",
      "|       Rating        |  object   |   6769    |\n",
      "| NA_Sales_Percentage |  float64  |     0     |\n",
      "+---------------------+-----------+-----------+\n"
     ]
    }
   ],
   "source": [
    "def pretty_print_df_info_with_nans(df):\n",
    "    # Show the column names, data types, & count of NaN values.\n",
    "    columns_info = pd.DataFrame({\n",
    "        'Column': df.columns,\n",
    "        'Data Type': df.dtypes,\n",
    "        'NaN Count': df.isnull().sum()\n",
    "    }).reset_index(drop=True)\n",
    "\n",
    "    # Convert 'NaN Count' column to int for better display\n",
    "    columns_info['NaN Count'] = columns_info['NaN Count'].astype(int)\n",
    "\n",
    "    table = tabulate(columns_info, headers='keys', tablefmt='pretty', showindex=False)\n",
    "    print(f\"Dataframe Information:\\n{table}\")\n",
    "    \n",
    "pretty_print_df_info_with_nans(video_game_rankings_df)"
   ]
  },
  {
   "cell_type": "markdown",
   "id": "9c8ccbfb-8af4-4007-9c5e-83021aa89172",
   "metadata": {},
   "source": [
    "* Try to calculate the median user score of all the video games. You will likely run into an error because some of the user score entries are a non-numerical string that cannot be converted to a float. Find and replace this string with NaN and then calculate the median. Then, replace all NaN entries in the user score column with the median value."
   ]
  },
  {
   "cell_type": "code",
   "execution_count": 40,
   "id": "c7a531cf-5ae4-4feb-890e-76f6f9d75cbb",
   "metadata": {
    "tags": []
   },
   "outputs": [
    {
     "name": "stdout",
     "output_type": "stream",
     "text": [
      "The median score is 7.5\n"
     ]
    }
   ],
   "source": [
    "# Convert 'User_Score' to numeric, replacing non-numeric strings with NaN\n",
    "video_game_rankings_df['User_Score'] = pd.to_numeric(video_game_rankings_df['User_Score'], errors='coerce')\n",
    "\n",
    "# Calculate the median of 'User_Score'\n",
    "median_user_score = video_game_rankings_df['User_Score'].median()\n",
    "\n",
    "# Replace NaN entries in 'User_Score' with the median value\n",
    "video_game_rankings_df['User_Score'].fillna(median_user_score, inplace=True)\n",
    "\n",
    "print(f\"The median score is {median_user_score}\")"
   ]
  }
 ],
 "metadata": {
  "kernelspec": {
   "display_name": "Python 3 (ipykernel)",
   "language": "python",
   "name": "python3"
  },
  "language_info": {
   "codemirror_mode": {
    "name": "ipython",
    "version": 3
   },
   "file_extension": ".py",
   "mimetype": "text/x-python",
   "name": "python",
   "nbconvert_exporter": "python",
   "pygments_lexer": "ipython3",
   "version": "3.9.13"
  }
 },
 "nbformat": 4,
 "nbformat_minor": 5
}
